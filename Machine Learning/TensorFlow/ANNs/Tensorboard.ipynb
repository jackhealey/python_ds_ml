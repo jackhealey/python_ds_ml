{
 "cells": [
  {
   "cell_type": "markdown",
   "metadata": {},
   "source": [
    "# Tensorboard\n",
    "\n",
    "Let's explore the built in data visualization capabilities that come with Tensorboard.\n",
    "\n",
    "## Data"
   ]
  },
  {
   "cell_type": "code",
   "execution_count": 1,
   "metadata": {},
   "outputs": [],
   "source": [
    "import pandas as pd\n",
    "import numpy as np"
   ]
  },
  {
   "cell_type": "code",
   "execution_count": 2,
   "metadata": {},
   "outputs": [],
   "source": [
    "df = pd.read_csv('../DATA/cancer_classification.csv')"
   ]
  },
  {
   "cell_type": "markdown",
   "metadata": {},
   "source": [
    "### Train Test Split"
   ]
  },
  {
   "cell_type": "code",
   "execution_count": 3,
   "metadata": {},
   "outputs": [],
   "source": [
    "X = df.drop('benign_0__mal_1',axis = 1).values\n",
    "y = df['benign_0__mal_1'].values"
   ]
  },
  {
   "cell_type": "code",
   "execution_count": 4,
   "metadata": {},
   "outputs": [],
   "source": [
    "from sklearn.model_selection import train_test_split"
   ]
  },
  {
   "cell_type": "code",
   "execution_count": 5,
   "metadata": {},
   "outputs": [],
   "source": [
    "X_train, X_test, y_train, y_test = train_test_split(X, y,\n",
    "                                                test_size = 0.25, random_state = 101)"
   ]
  },
  {
   "cell_type": "markdown",
   "metadata": {},
   "source": [
    "\n",
    "### Scaling Data"
   ]
  },
  {
   "cell_type": "code",
   "execution_count": 6,
   "metadata": {},
   "outputs": [],
   "source": [
    "from sklearn.preprocessing import MinMaxScaler"
   ]
  },
  {
   "cell_type": "code",
   "execution_count": 7,
   "metadata": {},
   "outputs": [],
   "source": [
    "scaler = MinMaxScaler()"
   ]
  },
  {
   "cell_type": "code",
   "execution_count": 8,
   "metadata": {},
   "outputs": [
    {
     "data": {
      "text/plain": [
       "MinMaxScaler()"
      ]
     },
     "execution_count": 8,
     "metadata": {},
     "output_type": "execute_result"
    }
   ],
   "source": [
    "scaler.fit(X_train)"
   ]
  },
  {
   "cell_type": "code",
   "execution_count": 9,
   "metadata": {},
   "outputs": [],
   "source": [
    "X_train = scaler.transform(X_train)\n",
    "X_test = scaler.transform(X_test)"
   ]
  },
  {
   "cell_type": "markdown",
   "metadata": {},
   "source": [
    "## Creating the Model"
   ]
  },
  {
   "cell_type": "code",
   "execution_count": 10,
   "metadata": {},
   "outputs": [],
   "source": [
    "import tensorflow as tf\n",
    "from tensorflow.keras.models import Sequential\n",
    "from tensorflow.keras.layers import Dense, Activation, Dropout"
   ]
  },
  {
   "cell_type": "code",
   "execution_count": 11,
   "metadata": {},
   "outputs": [],
   "source": [
    "from tensorflow.keras.callbacks import EarlyStopping, TensorBoard"
   ]
  },
  {
   "cell_type": "code",
   "execution_count": 12,
   "metadata": {},
   "outputs": [],
   "source": [
    "early_stop = EarlyStopping(monitor = 'val_loss', mode = 'min',\n",
    "                           verbose = 1, patience = 25)"
   ]
  },
  {
   "cell_type": "code",
   "execution_count": 13,
   "metadata": {},
   "outputs": [
    {
     "data": {
      "text/plain": [
       "'/Users/jackhealey/Dropbox/Online Courses/Python for Data Science and Machine Learning Bootcamp/python_ds_ml/Machine Learning/TensorFlow/ANNs'"
      ]
     },
     "execution_count": 13,
     "metadata": {},
     "output_type": "execute_result"
    }
   ],
   "source": [
    "pwd"
   ]
  },
  {
   "cell_type": "markdown",
   "metadata": {},
   "source": [
    "## Creating the Tensorboard Callback\n",
    "\n",
    "TensorBoard is a visualization tool provided with TensorFlow.\n",
    "\n",
    "This callback logs events for TensorBoard, including:\n",
    "* Metrics summary plots\n",
    "* Training graph visualization\n",
    "* Activation histograms\n",
    "* Sampled profiling\n",
    "\n",
    "If you have installed TensorFlow with pip, you should be able\n",
    "to launch TensorBoard from the command line:\n",
    "\n",
    "```sh\n",
    "tensorboard --logdir=path_to_your_logs\n",
    "```\n",
    "\n",
    "You can find more information about TensorBoard\n",
    "[here](https://www.tensorflow.org/tensorboard/).\n",
    "\n",
    "    Arguments:\n",
    "        log_dir: the path of the directory where to save the log files to be\n",
    "          parsed by TensorBoard.\n",
    "        histogram_freq: frequency (in epochs) at which to compute activation and\n",
    "          weight histograms for the layers of the model. If set to 0, histograms\n",
    "          won't be computed. Validation data (or split) must be specified for\n",
    "          histogram visualizations.\n",
    "        write_graph: whether to visualize the graph in TensorBoard. The log file\n",
    "          can become quite large when write_graph is set to True.\n",
    "        write_images: whether to write model weights to visualize as image in\n",
    "          TensorBoard.\n",
    "        update_freq: `'batch'` or `'epoch'` or integer. When using `'batch'`,\n",
    "          writes the losses and metrics to TensorBoard after each batch. The same\n",
    "          applies for `'epoch'`. If using an integer, let's say `1000`, the\n",
    "          callback will write the metrics and losses to TensorBoard every 1000\n",
    "          samples. Note that writing too frequently to TensorBoard can slow down\n",
    "          your training.\n",
    "        profile_batch: Profile the batch to sample compute characteristics. By\n",
    "          default, it will profile the second batch. Set profile_batch=0 to\n",
    "          disable profiling. Must run in TensorFlow eager mode.\n",
    "        embeddings_freq: frequency (in epochs) at which embedding layers will\n",
    "          be visualized. If set to 0, embeddings won't be visualized.\n",
    "       "
   ]
  },
  {
   "cell_type": "code",
   "execution_count": 14,
   "metadata": {},
   "outputs": [],
   "source": [
    "from datetime import datetime"
   ]
  },
  {
   "cell_type": "code",
   "execution_count": 15,
   "metadata": {},
   "outputs": [
    {
     "data": {
      "text/plain": [
       "'2021-02-11--1626'"
      ]
     },
     "execution_count": 15,
     "metadata": {},
     "output_type": "execute_result"
    }
   ],
   "source": [
    "datetime.now().strftime(\"%Y-%m-%d--%H%M\")"
   ]
  },
  {
   "cell_type": "code",
   "execution_count": 16,
   "metadata": {},
   "outputs": [],
   "source": [
    "# WINDOWS: Use \"logs\\\\fit\"\n",
    "# MACOS/LINUX: Use \"logs\\fit\"\n",
    "\n",
    "log_directory = 'logs/fit'\n",
    "\n",
    "# OPTIONAL: ADD A TIMESTAMP FOR UNIQUE FOLDER\n",
    "# timestamp = datetime.now().strftime(\"%Y-%m-%d--%H%M\")\n",
    "# log_directory = log_directory + '\\\\' + timestamp\n",
    "\n",
    "\n",
    "board = TensorBoard(log_dir = log_directory, histogram_freq = 1,\n",
    "    write_graph = True,\n",
    "    write_images = True,\n",
    "    update_freq = 'epoch',\n",
    "    profile_batch = 2,\n",
    "    embeddings_freq = 1)"
   ]
  },
  {
   "cell_type": "markdown",
   "metadata": {},
   "source": [
    "Now create the model layers:"
   ]
  },
  {
   "cell_type": "code",
   "execution_count": 17,
   "metadata": {},
   "outputs": [],
   "source": [
    "model = Sequential()\n",
    "model.add(Dense(units = 30, activation = 'relu'))\n",
    "model.add(Dropout(0.5))\n",
    "model.add(Dense(units = 15, activation = 'relu'))\n",
    "model.add(Dropout(0.5))\n",
    "model.add(Dense(units = 1, activation = 'sigmoid'))\n",
    "model.compile(loss = 'binary_crossentropy', optimizer = 'adam')"
   ]
  },
  {
   "cell_type": "markdown",
   "metadata": {},
   "source": [
    "## Train the Model"
   ]
  },
  {
   "cell_type": "code",
   "execution_count": 18,
   "metadata": {},
   "outputs": [
    {
     "name": "stdout",
     "output_type": "stream",
     "text": [
      "Epoch 1/600\n",
      "14/14 [==============================] - 1s 49ms/step - loss: 0.7424 - val_loss: 0.6705\n",
      "Epoch 2/600\n",
      "14/14 [==============================] - 0s 7ms/step - loss: 0.7025 - val_loss: 0.6534\n",
      "Epoch 3/600\n",
      "14/14 [==============================] - 0s 5ms/step - loss: 0.6819 - val_loss: 0.6339\n",
      "Epoch 4/600\n",
      "14/14 [==============================] - 0s 4ms/step - loss: 0.6511 - val_loss: 0.6119\n",
      "Epoch 5/600\n",
      "14/14 [==============================] - 0s 3ms/step - loss: 0.6488 - val_loss: 0.5913\n",
      "Epoch 6/600\n",
      "14/14 [==============================] - 0s 4ms/step - loss: 0.6143 - val_loss: 0.5567\n",
      "Epoch 7/600\n",
      "14/14 [==============================] - 0s 4ms/step - loss: 0.5945 - val_loss: 0.5270\n",
      "Epoch 8/600\n",
      "14/14 [==============================] - 0s 4ms/step - loss: 0.5773 - val_loss: 0.4991\n",
      "Epoch 9/600\n",
      "14/14 [==============================] - 0s 4ms/step - loss: 0.5534 - val_loss: 0.4689\n",
      "Epoch 10/600\n",
      "14/14 [==============================] - 0s 4ms/step - loss: 0.5105 - val_loss: 0.4347\n",
      "Epoch 11/600\n",
      "14/14 [==============================] - 0s 4ms/step - loss: 0.5192 - val_loss: 0.4098\n",
      "Epoch 12/600\n",
      "14/14 [==============================] - 0s 4ms/step - loss: 0.4766 - val_loss: 0.3862\n",
      "Epoch 13/600\n",
      "14/14 [==============================] - 0s 4ms/step - loss: 0.4839 - val_loss: 0.3721\n",
      "Epoch 14/600\n",
      "14/14 [==============================] - 0s 4ms/step - loss: 0.4535 - val_loss: 0.3547\n",
      "Epoch 15/600\n",
      "14/14 [==============================] - 0s 4ms/step - loss: 0.4330 - val_loss: 0.3332\n",
      "Epoch 16/600\n",
      "14/14 [==============================] - 0s 4ms/step - loss: 0.4150 - val_loss: 0.3139\n",
      "Epoch 17/600\n",
      "14/14 [==============================] - 0s 4ms/step - loss: 0.3874 - val_loss: 0.3016\n",
      "Epoch 18/600\n",
      "14/14 [==============================] - 0s 4ms/step - loss: 0.3609 - val_loss: 0.2810\n",
      "Epoch 19/600\n",
      "14/14 [==============================] - 0s 4ms/step - loss: 0.3786 - val_loss: 0.2684\n",
      "Epoch 20/600\n",
      "14/14 [==============================] - 0s 4ms/step - loss: 0.3455 - val_loss: 0.2546\n",
      "Epoch 21/600\n",
      "14/14 [==============================] - 0s 4ms/step - loss: 0.3429 - val_loss: 0.2484\n",
      "Epoch 22/600\n",
      "14/14 [==============================] - 0s 4ms/step - loss: 0.3423 - val_loss: 0.2434\n",
      "Epoch 23/600\n",
      "14/14 [==============================] - 0s 4ms/step - loss: 0.3730 - val_loss: 0.2337\n",
      "Epoch 24/600\n",
      "14/14 [==============================] - 0s 4ms/step - loss: 0.3207 - val_loss: 0.2143\n",
      "Epoch 25/600\n",
      "14/14 [==============================] - 0s 4ms/step - loss: 0.2886 - val_loss: 0.2010\n",
      "Epoch 26/600\n",
      "14/14 [==============================] - 0s 4ms/step - loss: 0.3003 - val_loss: 0.1938\n",
      "Epoch 27/600\n",
      "14/14 [==============================] - 0s 4ms/step - loss: 0.3027 - val_loss: 0.1875\n",
      "Epoch 28/600\n",
      "14/14 [==============================] - 0s 3ms/step - loss: 0.3143 - val_loss: 0.1836\n",
      "Epoch 29/600\n",
      "14/14 [==============================] - 0s 4ms/step - loss: 0.2917 - val_loss: 0.1795\n",
      "Epoch 30/600\n",
      "14/14 [==============================] - 0s 4ms/step - loss: 0.2916 - val_loss: 0.1704\n",
      "Epoch 31/600\n",
      "14/14 [==============================] - 0s 4ms/step - loss: 0.2577 - val_loss: 0.1635\n",
      "Epoch 32/600\n",
      "14/14 [==============================] - 0s 5ms/step - loss: 0.2562 - val_loss: 0.1670\n",
      "Epoch 33/600\n",
      "14/14 [==============================] - 0s 5ms/step - loss: 0.2846 - val_loss: 0.1555\n",
      "Epoch 34/600\n",
      "14/14 [==============================] - 0s 4ms/step - loss: 0.2859 - val_loss: 0.1563\n",
      "Epoch 35/600\n",
      "14/14 [==============================] - 0s 4ms/step - loss: 0.2266 - val_loss: 0.1506\n",
      "Epoch 36/600\n",
      "14/14 [==============================] - 0s 3ms/step - loss: 0.1971 - val_loss: 0.1508\n",
      "Epoch 37/600\n",
      "14/14 [==============================] - 0s 4ms/step - loss: 0.2344 - val_loss: 0.1463\n",
      "Epoch 38/600\n",
      "14/14 [==============================] - 0s 4ms/step - loss: 0.2495 - val_loss: 0.1400\n",
      "Epoch 39/600\n",
      "14/14 [==============================] - 0s 4ms/step - loss: 0.2339 - val_loss: 0.1331\n",
      "Epoch 40/600\n",
      "14/14 [==============================] - 0s 4ms/step - loss: 0.2520 - val_loss: 0.1361\n",
      "Epoch 41/600\n",
      "14/14 [==============================] - 0s 4ms/step - loss: 0.2165 - val_loss: 0.1326\n",
      "Epoch 42/600\n",
      "14/14 [==============================] - 0s 4ms/step - loss: 0.1969 - val_loss: 0.1247\n",
      "Epoch 43/600\n",
      "14/14 [==============================] - 0s 4ms/step - loss: 0.2353 - val_loss: 0.1287\n",
      "Epoch 44/600\n",
      "14/14 [==============================] - 0s 5ms/step - loss: 0.2049 - val_loss: 0.1221\n",
      "Epoch 45/600\n",
      "14/14 [==============================] - 0s 4ms/step - loss: 0.2353 - val_loss: 0.1319\n",
      "Epoch 46/600\n",
      "14/14 [==============================] - 0s 4ms/step - loss: 0.2299 - val_loss: 0.1195\n",
      "Epoch 47/600\n",
      "14/14 [==============================] - 0s 5ms/step - loss: 0.1870 - val_loss: 0.1188\n",
      "Epoch 48/600\n",
      "14/14 [==============================] - 0s 4ms/step - loss: 0.1904 - val_loss: 0.1132\n",
      "Epoch 49/600\n",
      "14/14 [==============================] - 0s 4ms/step - loss: 0.1924 - val_loss: 0.1149\n",
      "Epoch 50/600\n",
      "14/14 [==============================] - 0s 4ms/step - loss: 0.2095 - val_loss: 0.1104\n",
      "Epoch 51/600\n",
      "14/14 [==============================] - 0s 4ms/step - loss: 0.1730 - val_loss: 0.1080\n",
      "Epoch 52/600\n",
      "14/14 [==============================] - 0s 3ms/step - loss: 0.1994 - val_loss: 0.1129\n",
      "Epoch 53/600\n",
      "14/14 [==============================] - 0s 4ms/step - loss: 0.2330 - val_loss: 0.1093\n",
      "Epoch 54/600\n",
      "14/14 [==============================] - 0s 4ms/step - loss: 0.1663 - val_loss: 0.1037\n",
      "Epoch 55/600\n",
      "14/14 [==============================] - 0s 4ms/step - loss: 0.1635 - val_loss: 0.1006\n",
      "Epoch 56/600\n",
      "14/14 [==============================] - 0s 4ms/step - loss: 0.1626 - val_loss: 0.1014\n",
      "Epoch 57/600\n",
      "14/14 [==============================] - 0s 3ms/step - loss: 0.2112 - val_loss: 0.1012\n",
      "Epoch 58/600\n",
      "14/14 [==============================] - 0s 3ms/step - loss: 0.1723 - val_loss: 0.1072\n",
      "Epoch 59/600\n",
      "14/14 [==============================] - 0s 3ms/step - loss: 0.2003 - val_loss: 0.1039\n",
      "Epoch 60/600\n",
      "14/14 [==============================] - 0s 3ms/step - loss: 0.1845 - val_loss: 0.1039\n",
      "Epoch 61/600\n",
      "14/14 [==============================] - 0s 3ms/step - loss: 0.1875 - val_loss: 0.1009\n",
      "Epoch 62/600\n",
      "14/14 [==============================] - 0s 3ms/step - loss: 0.1912 - val_loss: 0.0970\n",
      "Epoch 63/600\n",
      "14/14 [==============================] - 0s 3ms/step - loss: 0.1590 - val_loss: 0.0963\n",
      "Epoch 64/600\n",
      "14/14 [==============================] - 0s 3ms/step - loss: 0.1621 - val_loss: 0.1112\n",
      "Epoch 65/600\n",
      "14/14 [==============================] - 0s 4ms/step - loss: 0.1549 - val_loss: 0.0941\n",
      "Epoch 66/600\n",
      "14/14 [==============================] - 0s 4ms/step - loss: 0.1519 - val_loss: 0.0992\n",
      "Epoch 67/600\n",
      "14/14 [==============================] - 0s 3ms/step - loss: 0.1563 - val_loss: 0.0954\n",
      "Epoch 68/600\n",
      "14/14 [==============================] - 0s 4ms/step - loss: 0.1326 - val_loss: 0.0879\n",
      "Epoch 69/600\n",
      "14/14 [==============================] - 0s 4ms/step - loss: 0.1848 - val_loss: 0.0938\n",
      "Epoch 70/600\n",
      "14/14 [==============================] - 0s 4ms/step - loss: 0.1529 - val_loss: 0.0911\n",
      "Epoch 71/600\n",
      "14/14 [==============================] - 0s 4ms/step - loss: 0.1639 - val_loss: 0.0853\n",
      "Epoch 72/600\n",
      "14/14 [==============================] - 0s 3ms/step - loss: 0.1456 - val_loss: 0.0880\n",
      "Epoch 73/600\n",
      "14/14 [==============================] - 0s 3ms/step - loss: 0.1130 - val_loss: 0.0865\n",
      "Epoch 74/600\n",
      "14/14 [==============================] - 0s 3ms/step - loss: 0.2123 - val_loss: 0.0847\n",
      "Epoch 75/600\n",
      "14/14 [==============================] - 0s 4ms/step - loss: 0.1411 - val_loss: 0.0890\n",
      "Epoch 76/600\n",
      "14/14 [==============================] - 0s 3ms/step - loss: 0.1321 - val_loss: 0.0899\n",
      "Epoch 77/600\n",
      "14/14 [==============================] - 0s 3ms/step - loss: 0.1148 - val_loss: 0.0805\n",
      "Epoch 78/600\n",
      "14/14 [==============================] - 0s 3ms/step - loss: 0.1355 - val_loss: 0.0922\n",
      "Epoch 79/600\n",
      "14/14 [==============================] - 0s 3ms/step - loss: 0.1062 - val_loss: 0.0905\n",
      "Epoch 80/600\n",
      "14/14 [==============================] - 0s 4ms/step - loss: 0.1422 - val_loss: 0.0805\n",
      "Epoch 81/600\n",
      "14/14 [==============================] - 0s 4ms/step - loss: 0.1257 - val_loss: 0.0817\n",
      "Epoch 82/600\n",
      "14/14 [==============================] - 0s 3ms/step - loss: 0.1504 - val_loss: 0.0840\n",
      "Epoch 83/600\n"
     ]
    },
    {
     "name": "stdout",
     "output_type": "stream",
     "text": [
      "14/14 [==============================] - 0s 3ms/step - loss: 0.1281 - val_loss: 0.0895\n",
      "Epoch 84/600\n",
      "14/14 [==============================] - 0s 4ms/step - loss: 0.1330 - val_loss: 0.0873\n",
      "Epoch 85/600\n",
      "14/14 [==============================] - 0s 4ms/step - loss: 0.1239 - val_loss: 0.0856\n",
      "Epoch 86/600\n",
      "14/14 [==============================] - 0s 3ms/step - loss: 0.1255 - val_loss: 0.0858\n",
      "Epoch 87/600\n",
      "14/14 [==============================] - 0s 4ms/step - loss: 0.1129 - val_loss: 0.0990\n",
      "Epoch 88/600\n",
      "14/14 [==============================] - 0s 4ms/step - loss: 0.1111 - val_loss: 0.0787\n",
      "Epoch 89/600\n",
      "14/14 [==============================] - 0s 3ms/step - loss: 0.1339 - val_loss: 0.0776\n",
      "Epoch 90/600\n",
      "14/14 [==============================] - 0s 4ms/step - loss: 0.1366 - val_loss: 0.0836\n",
      "Epoch 91/600\n",
      "14/14 [==============================] - 0s 4ms/step - loss: 0.1144 - val_loss: 0.0933\n",
      "Epoch 92/600\n",
      "14/14 [==============================] - 0s 4ms/step - loss: 0.1528 - val_loss: 0.0828\n",
      "Epoch 93/600\n",
      "14/14 [==============================] - 0s 4ms/step - loss: 0.1167 - val_loss: 0.0774\n",
      "Epoch 94/600\n",
      "14/14 [==============================] - 0s 3ms/step - loss: 0.1227 - val_loss: 0.0776\n",
      "Epoch 95/600\n",
      "14/14 [==============================] - 0s 4ms/step - loss: 0.1573 - val_loss: 0.0869\n",
      "Epoch 96/600\n",
      "14/14 [==============================] - 0s 4ms/step - loss: 0.1067 - val_loss: 0.0937\n",
      "Epoch 97/600\n",
      "14/14 [==============================] - 0s 4ms/step - loss: 0.1158 - val_loss: 0.0818\n",
      "Epoch 98/600\n",
      "14/14 [==============================] - 0s 4ms/step - loss: 0.1224 - val_loss: 0.0852\n",
      "Epoch 99/600\n",
      "14/14 [==============================] - 0s 4ms/step - loss: 0.1123 - val_loss: 0.0771\n",
      "Epoch 100/600\n",
      "14/14 [==============================] - 0s 4ms/step - loss: 0.1123 - val_loss: 0.0798\n",
      "Epoch 101/600\n",
      "14/14 [==============================] - 0s 4ms/step - loss: 0.1299 - val_loss: 0.0766\n",
      "Epoch 102/600\n",
      "14/14 [==============================] - 0s 4ms/step - loss: 0.1263 - val_loss: 0.0775\n",
      "Epoch 103/600\n",
      "14/14 [==============================] - 0s 4ms/step - loss: 0.1266 - val_loss: 0.0806\n",
      "Epoch 104/600\n",
      "14/14 [==============================] - 0s 4ms/step - loss: 0.1751 - val_loss: 0.0778\n",
      "Epoch 105/600\n",
      "14/14 [==============================] - 0s 4ms/step - loss: 0.0997 - val_loss: 0.0799\n",
      "Epoch 106/600\n",
      "14/14 [==============================] - 0s 4ms/step - loss: 0.0962 - val_loss: 0.0784\n",
      "Epoch 107/600\n",
      "14/14 [==============================] - 0s 4ms/step - loss: 0.1446 - val_loss: 0.0748\n",
      "Epoch 108/600\n",
      "14/14 [==============================] - 0s 4ms/step - loss: 0.1464 - val_loss: 0.0735\n",
      "Epoch 109/600\n",
      "14/14 [==============================] - 0s 5ms/step - loss: 0.1012 - val_loss: 0.0766\n",
      "Epoch 110/600\n",
      "14/14 [==============================] - 0s 4ms/step - loss: 0.1404 - val_loss: 0.0854\n",
      "Epoch 111/600\n",
      "14/14 [==============================] - 0s 4ms/step - loss: 0.1570 - val_loss: 0.0740\n",
      "Epoch 112/600\n",
      "14/14 [==============================] - 0s 4ms/step - loss: 0.0842 - val_loss: 0.0773\n",
      "Epoch 113/600\n",
      "14/14 [==============================] - 0s 4ms/step - loss: 0.0907 - val_loss: 0.0799\n",
      "Epoch 114/600\n",
      "14/14 [==============================] - 0s 4ms/step - loss: 0.0949 - val_loss: 0.0950\n",
      "Epoch 115/600\n",
      "14/14 [==============================] - 0s 4ms/step - loss: 0.1089 - val_loss: 0.0753\n",
      "Epoch 116/600\n",
      "14/14 [==============================] - 0s 4ms/step - loss: 0.1276 - val_loss: 0.0846\n",
      "Epoch 117/600\n",
      "14/14 [==============================] - 0s 4ms/step - loss: 0.0854 - val_loss: 0.0755\n",
      "Epoch 118/600\n",
      "14/14 [==============================] - 0s 4ms/step - loss: 0.1195 - val_loss: 0.1006\n",
      "Epoch 119/600\n",
      "14/14 [==============================] - 0s 4ms/step - loss: 0.1097 - val_loss: 0.0840\n",
      "Epoch 120/600\n",
      "14/14 [==============================] - 0s 4ms/step - loss: 0.1053 - val_loss: 0.0794\n",
      "Epoch 121/600\n",
      "14/14 [==============================] - 0s 4ms/step - loss: 0.0831 - val_loss: 0.0838\n",
      "Epoch 122/600\n",
      "14/14 [==============================] - 0s 4ms/step - loss: 0.0971 - val_loss: 0.0782\n",
      "Epoch 123/600\n",
      "14/14 [==============================] - 0s 4ms/step - loss: 0.1520 - val_loss: 0.0772\n",
      "Epoch 124/600\n",
      "14/14 [==============================] - 0s 4ms/step - loss: 0.1071 - val_loss: 0.0802\n",
      "Epoch 125/600\n",
      "14/14 [==============================] - 0s 4ms/step - loss: 0.1054 - val_loss: 0.0778\n",
      "Epoch 126/600\n",
      "14/14 [==============================] - 0s 6ms/step - loss: 0.1043 - val_loss: 0.0735\n",
      "Epoch 127/600\n",
      "14/14 [==============================] - 0s 5ms/step - loss: 0.1094 - val_loss: 0.0800\n",
      "Epoch 128/600\n",
      "14/14 [==============================] - 0s 5ms/step - loss: 0.0887 - val_loss: 0.0787\n",
      "Epoch 129/600\n",
      "14/14 [==============================] - 0s 4ms/step - loss: 0.1193 - val_loss: 0.0762\n",
      "Epoch 130/600\n",
      "14/14 [==============================] - 0s 4ms/step - loss: 0.0972 - val_loss: 0.0817\n",
      "Epoch 131/600\n",
      "14/14 [==============================] - 0s 5ms/step - loss: 0.0780 - val_loss: 0.0802\n",
      "Epoch 132/600\n",
      "14/14 [==============================] - 0s 5ms/step - loss: 0.1169 - val_loss: 0.0843\n",
      "Epoch 133/600\n",
      "14/14 [==============================] - 0s 5ms/step - loss: 0.0788 - val_loss: 0.1068\n",
      "Epoch 134/600\n",
      "14/14 [==============================] - 0s 5ms/step - loss: 0.1377 - val_loss: 0.0872\n",
      "Epoch 135/600\n",
      "14/14 [==============================] - 0s 4ms/step - loss: 0.1070 - val_loss: 0.0761\n",
      "Epoch 136/600\n",
      "14/14 [==============================] - 0s 4ms/step - loss: 0.0864 - val_loss: 0.0836\n",
      "Epoch 137/600\n",
      "14/14 [==============================] - 0s 4ms/step - loss: 0.1423 - val_loss: 0.0737\n",
      "Epoch 138/600\n",
      "14/14 [==============================] - 0s 5ms/step - loss: 0.0950 - val_loss: 0.0836\n",
      "Epoch 139/600\n",
      "14/14 [==============================] - 0s 5ms/step - loss: 0.0982 - val_loss: 0.0742\n",
      "Epoch 140/600\n",
      "14/14 [==============================] - 0s 4ms/step - loss: 0.1182 - val_loss: 0.1012\n",
      "Epoch 141/600\n",
      "14/14 [==============================] - 0s 4ms/step - loss: 0.0839 - val_loss: 0.0894\n",
      "Epoch 142/600\n",
      "14/14 [==============================] - 0s 4ms/step - loss: 0.1045 - val_loss: 0.0731\n",
      "Epoch 143/600\n",
      "14/14 [==============================] - 0s 4ms/step - loss: 0.1306 - val_loss: 0.0943\n",
      "Epoch 144/600\n",
      "14/14 [==============================] - 0s 4ms/step - loss: 0.1114 - val_loss: 0.0786\n",
      "Epoch 145/600\n",
      "14/14 [==============================] - 0s 4ms/step - loss: 0.1200 - val_loss: 0.0761\n",
      "Epoch 146/600\n",
      "14/14 [==============================] - 0s 4ms/step - loss: 0.1079 - val_loss: 0.0785\n",
      "Epoch 147/600\n",
      "14/14 [==============================] - 0s 4ms/step - loss: 0.1011 - val_loss: 0.0731\n",
      "Epoch 148/600\n",
      "14/14 [==============================] - 0s 4ms/step - loss: 0.0978 - val_loss: 0.0777\n",
      "Epoch 149/600\n",
      "14/14 [==============================] - 0s 4ms/step - loss: 0.0924 - val_loss: 0.0803\n",
      "Epoch 150/600\n",
      "14/14 [==============================] - 0s 4ms/step - loss: 0.0910 - val_loss: 0.0968\n",
      "Epoch 151/600\n",
      "14/14 [==============================] - 0s 4ms/step - loss: 0.1014 - val_loss: 0.0840\n",
      "Epoch 152/600\n",
      "14/14 [==============================] - 0s 4ms/step - loss: 0.0825 - val_loss: 0.0705\n",
      "Epoch 153/600\n",
      "14/14 [==============================] - 0s 5ms/step - loss: 0.1176 - val_loss: 0.0791\n",
      "Epoch 154/600\n",
      "14/14 [==============================] - 0s 4ms/step - loss: 0.0921 - val_loss: 0.0845\n",
      "Epoch 155/600\n",
      "14/14 [==============================] - 0s 4ms/step - loss: 0.0794 - val_loss: 0.0775\n",
      "Epoch 156/600\n",
      "14/14 [==============================] - 0s 3ms/step - loss: 0.0864 - val_loss: 0.0801\n",
      "Epoch 157/600\n",
      "14/14 [==============================] - 0s 4ms/step - loss: 0.0746 - val_loss: 0.0729\n",
      "Epoch 158/600\n",
      "14/14 [==============================] - 0s 4ms/step - loss: 0.0927 - val_loss: 0.0948\n",
      "Epoch 159/600\n",
      "14/14 [==============================] - 0s 4ms/step - loss: 0.1040 - val_loss: 0.0844\n",
      "Epoch 160/600\n",
      "14/14 [==============================] - 0s 4ms/step - loss: 0.1059 - val_loss: 0.0727\n",
      "Epoch 161/600\n",
      "14/14 [==============================] - 0s 4ms/step - loss: 0.0685 - val_loss: 0.0698\n",
      "Epoch 162/600\n",
      "14/14 [==============================] - 0s 4ms/step - loss: 0.0840 - val_loss: 0.1073\n",
      "Epoch 163/600\n",
      "14/14 [==============================] - 0s 4ms/step - loss: 0.0845 - val_loss: 0.0770\n",
      "Epoch 164/600\n"
     ]
    },
    {
     "name": "stdout",
     "output_type": "stream",
     "text": [
      "14/14 [==============================] - 0s 4ms/step - loss: 0.0665 - val_loss: 0.0765\n",
      "Epoch 165/600\n",
      "14/14 [==============================] - 0s 4ms/step - loss: 0.0936 - val_loss: 0.0852\n",
      "Epoch 166/600\n",
      "14/14 [==============================] - 0s 3ms/step - loss: 0.0969 - val_loss: 0.0791\n",
      "Epoch 167/600\n",
      "14/14 [==============================] - 0s 3ms/step - loss: 0.0747 - val_loss: 0.0848\n",
      "Epoch 168/600\n",
      "14/14 [==============================] - 0s 4ms/step - loss: 0.0822 - val_loss: 0.0917\n",
      "Epoch 169/600\n",
      "14/14 [==============================] - 0s 4ms/step - loss: 0.0687 - val_loss: 0.0842\n",
      "Epoch 170/600\n",
      "14/14 [==============================] - 0s 4ms/step - loss: 0.0813 - val_loss: 0.0879\n",
      "Epoch 171/600\n",
      "14/14 [==============================] - 0s 4ms/step - loss: 0.0811 - val_loss: 0.0857\n",
      "Epoch 172/600\n",
      "14/14 [==============================] - 0s 4ms/step - loss: 0.1051 - val_loss: 0.0858\n",
      "Epoch 173/600\n",
      "14/14 [==============================] - 0s 4ms/step - loss: 0.0929 - val_loss: 0.0747\n",
      "Epoch 174/600\n",
      "14/14 [==============================] - 0s 4ms/step - loss: 0.1114 - val_loss: 0.0903\n",
      "Epoch 175/600\n",
      "14/14 [==============================] - 0s 3ms/step - loss: 0.0998 - val_loss: 0.0824\n",
      "Epoch 176/600\n",
      "14/14 [==============================] - 0s 4ms/step - loss: 0.0810 - val_loss: 0.0776\n",
      "Epoch 177/600\n",
      "14/14 [==============================] - 0s 4ms/step - loss: 0.0745 - val_loss: 0.0832\n",
      "Epoch 178/600\n",
      "14/14 [==============================] - 0s 4ms/step - loss: 0.0764 - val_loss: 0.0801\n",
      "Epoch 179/600\n",
      "14/14 [==============================] - 0s 4ms/step - loss: 0.0896 - val_loss: 0.0930\n",
      "Epoch 180/600\n",
      "14/14 [==============================] - 0s 4ms/step - loss: 0.0659 - val_loss: 0.0892\n",
      "Epoch 181/600\n",
      "14/14 [==============================] - 0s 4ms/step - loss: 0.0675 - val_loss: 0.0856\n",
      "Epoch 182/600\n",
      "14/14 [==============================] - 0s 4ms/step - loss: 0.1053 - val_loss: 0.0771\n",
      "Epoch 183/600\n",
      "14/14 [==============================] - 0s 4ms/step - loss: 0.0797 - val_loss: 0.0882\n",
      "Epoch 184/600\n",
      "14/14 [==============================] - 0s 4ms/step - loss: 0.0743 - val_loss: 0.0906\n",
      "Epoch 185/600\n",
      "14/14 [==============================] - 0s 4ms/step - loss: 0.0738 - val_loss: 0.0816\n",
      "Epoch 186/600\n",
      "14/14 [==============================] - 0s 4ms/step - loss: 0.0848 - val_loss: 0.0895\n",
      "Epoch 00186: early stopping\n"
     ]
    },
    {
     "data": {
      "text/plain": [
       "<tensorflow.python.keras.callbacks.History at 0x7f8dcb8cd340>"
      ]
     },
     "execution_count": 18,
     "metadata": {},
     "output_type": "execute_result"
    }
   ],
   "source": [
    "model.fit(x = X_train, \n",
    "          y = y_train, \n",
    "          epochs = 600,\n",
    "          validation_data = (X_test, y_test), verbose = 1,\n",
    "          callbacks = [early_stop, board]\n",
    "          )"
   ]
  },
  {
   "cell_type": "markdown",
   "metadata": {},
   "source": [
    "# Running Tensorboard\n"
   ]
  },
  {
   "cell_type": "markdown",
   "metadata": {},
   "source": [
    "## Running through the Command Line\n",
    "\n",
    "**Watch video to see how to run Tensorboard through a command line call.**"
   ]
  },
  {
   "cell_type": "markdown",
   "metadata": {},
   "source": [
    "Tensorboard will run locally in your browser at [http://localhost:6006/](http://localhost:6006/)\n"
   ]
  },
  {
   "cell_type": "code",
   "execution_count": 19,
   "metadata": {},
   "outputs": [
    {
     "name": "stdout",
     "output_type": "stream",
     "text": [
      "logs/fit\n"
     ]
    }
   ],
   "source": [
    "print(log_directory)"
   ]
  },
  {
   "cell_type": "code",
   "execution_count": 20,
   "metadata": {},
   "outputs": [
    {
     "data": {
      "text/plain": [
       "'/Users/jackhealey/Dropbox/Online Courses/Python for Data Science and Machine Learning Bootcamp/python_ds_ml/Machine Learning/TensorFlow/ANNs'"
      ]
     },
     "execution_count": 20,
     "metadata": {},
     "output_type": "execute_result"
    }
   ],
   "source": [
    "pwd"
   ]
  },
  {
   "cell_type": "markdown",
   "metadata": {},
   "source": [
    "### Use cd at your command line to change directory to the file path reported back by pwd or your current .py file location.\n",
    "### Then run this code at your command line or terminal"
   ]
  },
  {
   "cell_type": "code",
   "execution_count": null,
   "metadata": {},
   "outputs": [],
   "source": [
    "tensorboard --logdir logs/fit"
   ]
  }
 ],
 "metadata": {
  "kernelspec": {
   "display_name": "Python 3",
   "language": "python",
   "name": "python3"
  },
  "language_info": {
   "codemirror_mode": {
    "name": "ipython",
    "version": 3
   },
   "file_extension": ".py",
   "mimetype": "text/x-python",
   "name": "python",
   "nbconvert_exporter": "python",
   "pygments_lexer": "ipython3",
   "version": "3.8.5"
  }
 },
 "nbformat": 4,
 "nbformat_minor": 2
}
